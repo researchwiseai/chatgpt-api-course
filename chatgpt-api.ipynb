{
 "cells": [
  {
   "cell_type": "markdown",
   "id": "2d35c5b5",
   "metadata": {},
   "source": [
    "# Introduction to the ChatGPT API\n",
    "\n",
    "This notebook provides an introduction to the ChatGPT API. You will learn how to:\n",
    "\n",
    "- Set up your environment and install the necessary packages\n",
    "- Authenticate with the API using your OpenAI API key\n",
    "- Execute a couple of basic examples of using the ChatGPT API\n",
    "\n",
    "For more details on the API, refer to the [OpenAI API documentation](https://platform.openai.com/docs/api-reference/chat)."
   ]
  },
  {
   "cell_type": "markdown",
   "id": "1c53fbc2",
   "metadata": {},
   "source": [
    "## 1. Setup and Installation\n",
    "\n",
    "Make sure you have Python installed and then install the `openai` Python package. You can install it using pip:"
   ]
  },
  {
   "cell_type": "code",
   "execution_count": 1,
   "id": "a6edc752",
   "metadata": {},
   "outputs": [
    {
     "name": "stdout",
     "output_type": "stream",
     "text": [
      "Collecting openai\n",
      "  Using cached openai-1.66.3-py3-none-any.whl.metadata (25 kB)\n",
      "Collecting pandas\n",
      "  Using cached pandas-2.2.3-cp311-cp311-manylinux_2_17_x86_64.manylinux2014_x86_64.whl.metadata (89 kB)\n",
      "Collecting matplotlib\n",
      "  Using cached matplotlib-3.10.1-cp311-cp311-manylinux_2_17_x86_64.manylinux2014_x86_64.whl.metadata (11 kB)\n",
      "Collecting tqdm\n",
      "  Using cached tqdm-4.67.1-py3-none-any.whl.metadata (57 kB)\n",
      "Collecting ipywidgets\n",
      "  Using cached ipywidgets-8.1.5-py3-none-any.whl.metadata (2.3 kB)\n",
      "Requirement already satisfied: anyio<5,>=3.5.0 in ./venv/lib/python3.11/site-packages (from openai) (4.9.0)\n",
      "Collecting distro<2,>=1.7.0 (from openai)\n",
      "  Using cached distro-1.9.0-py3-none-any.whl.metadata (6.8 kB)\n",
      "Requirement already satisfied: httpx<1,>=0.23.0 in ./venv/lib/python3.11/site-packages (from openai) (0.28.1)\n",
      "Collecting jiter<1,>=0.4.0 (from openai)\n",
      "  Using cached jiter-0.9.0-cp311-cp311-manylinux_2_17_x86_64.manylinux2014_x86_64.whl.metadata (5.2 kB)\n",
      "Collecting pydantic<3,>=1.9.0 (from openai)\n",
      "  Using cached pydantic-2.10.6-py3-none-any.whl.metadata (30 kB)\n",
      "Requirement already satisfied: sniffio in ./venv/lib/python3.11/site-packages (from openai) (1.3.1)\n",
      "Requirement already satisfied: typing-extensions<5,>=4.11 in ./venv/lib/python3.11/site-packages (from openai) (4.12.2)\n",
      "Collecting numpy>=1.23.2 (from pandas)\n",
      "  Using cached numpy-2.2.4-cp311-cp311-manylinux_2_17_x86_64.manylinux2014_x86_64.whl.metadata (62 kB)\n",
      "Requirement already satisfied: python-dateutil>=2.8.2 in ./venv/lib/python3.11/site-packages (from pandas) (2.9.0.post0)\n",
      "Collecting pytz>=2020.1 (from pandas)\n",
      "  Using cached pytz-2025.1-py2.py3-none-any.whl.metadata (22 kB)\n",
      "Collecting tzdata>=2022.7 (from pandas)\n",
      "  Using cached tzdata-2025.1-py2.py3-none-any.whl.metadata (1.4 kB)\n",
      "Collecting contourpy>=1.0.1 (from matplotlib)\n",
      "  Using cached contourpy-1.3.1-cp311-cp311-manylinux_2_17_x86_64.manylinux2014_x86_64.whl.metadata (5.4 kB)\n",
      "Collecting cycler>=0.10 (from matplotlib)\n",
      "  Using cached cycler-0.12.1-py3-none-any.whl.metadata (3.8 kB)\n",
      "Collecting fonttools>=4.22.0 (from matplotlib)\n",
      "  Using cached fonttools-4.56.0-cp311-cp311-manylinux_2_17_x86_64.manylinux2014_x86_64.whl.metadata (101 kB)\n",
      "Collecting kiwisolver>=1.3.1 (from matplotlib)\n",
      "  Using cached kiwisolver-1.4.8-cp311-cp311-manylinux_2_17_x86_64.manylinux2014_x86_64.whl.metadata (6.2 kB)\n",
      "Requirement already satisfied: packaging>=20.0 in ./venv/lib/python3.11/site-packages (from matplotlib) (24.2)\n",
      "Collecting pillow>=8 (from matplotlib)\n",
      "  Using cached pillow-11.1.0-cp311-cp311-manylinux_2_28_x86_64.whl.metadata (9.1 kB)\n",
      "Collecting pyparsing>=2.3.1 (from matplotlib)\n",
      "  Using cached pyparsing-3.2.1-py3-none-any.whl.metadata (5.0 kB)\n",
      "Requirement already satisfied: comm>=0.1.3 in ./venv/lib/python3.11/site-packages (from ipywidgets) (0.2.2)\n",
      "Requirement already satisfied: ipython>=6.1.0 in ./venv/lib/python3.11/site-packages (from ipywidgets) (9.0.2)\n",
      "Requirement already satisfied: traitlets>=4.3.1 in ./venv/lib/python3.11/site-packages (from ipywidgets) (5.14.3)\n",
      "Collecting widgetsnbextension~=4.0.12 (from ipywidgets)\n",
      "  Using cached widgetsnbextension-4.0.13-py3-none-any.whl.metadata (1.6 kB)\n",
      "Collecting jupyterlab-widgets~=3.0.12 (from ipywidgets)\n",
      "  Using cached jupyterlab_widgets-3.0.13-py3-none-any.whl.metadata (4.1 kB)\n",
      "Requirement already satisfied: idna>=2.8 in ./venv/lib/python3.11/site-packages (from anyio<5,>=3.5.0->openai) (3.10)\n",
      "Requirement already satisfied: certifi in ./venv/lib/python3.11/site-packages (from httpx<1,>=0.23.0->openai) (2025.1.31)\n",
      "Requirement already satisfied: httpcore==1.* in ./venv/lib/python3.11/site-packages (from httpx<1,>=0.23.0->openai) (1.0.7)\n",
      "Requirement already satisfied: h11<0.15,>=0.13 in ./venv/lib/python3.11/site-packages (from httpcore==1.*->httpx<1,>=0.23.0->openai) (0.14.0)\n",
      "Requirement already satisfied: decorator in ./venv/lib/python3.11/site-packages (from ipython>=6.1.0->ipywidgets) (5.2.1)\n",
      "Requirement already satisfied: ipython-pygments-lexers in ./venv/lib/python3.11/site-packages (from ipython>=6.1.0->ipywidgets) (1.1.1)\n",
      "Requirement already satisfied: jedi>=0.16 in ./venv/lib/python3.11/site-packages (from ipython>=6.1.0->ipywidgets) (0.19.2)\n",
      "Requirement already satisfied: matplotlib-inline in ./venv/lib/python3.11/site-packages (from ipython>=6.1.0->ipywidgets) (0.1.7)\n",
      "Requirement already satisfied: pexpect>4.3 in ./venv/lib/python3.11/site-packages (from ipython>=6.1.0->ipywidgets) (4.9.0)\n",
      "Requirement already satisfied: prompt_toolkit<3.1.0,>=3.0.41 in ./venv/lib/python3.11/site-packages (from ipython>=6.1.0->ipywidgets) (3.0.50)\n",
      "Requirement already satisfied: pygments>=2.4.0 in ./venv/lib/python3.11/site-packages (from ipython>=6.1.0->ipywidgets) (2.19.1)\n",
      "Requirement already satisfied: stack_data in ./venv/lib/python3.11/site-packages (from ipython>=6.1.0->ipywidgets) (0.6.3)\n",
      "Collecting annotated-types>=0.6.0 (from pydantic<3,>=1.9.0->openai)\n",
      "  Using cached annotated_types-0.7.0-py3-none-any.whl.metadata (15 kB)\n",
      "Collecting pydantic-core==2.27.2 (from pydantic<3,>=1.9.0->openai)\n",
      "  Using cached pydantic_core-2.27.2-cp311-cp311-manylinux_2_17_x86_64.manylinux2014_x86_64.whl.metadata (6.6 kB)\n",
      "Requirement already satisfied: six>=1.5 in ./venv/lib/python3.11/site-packages (from python-dateutil>=2.8.2->pandas) (1.17.0)\n",
      "Requirement already satisfied: parso<0.9.0,>=0.8.4 in ./venv/lib/python3.11/site-packages (from jedi>=0.16->ipython>=6.1.0->ipywidgets) (0.8.4)\n",
      "Requirement already satisfied: ptyprocess>=0.5 in ./venv/lib/python3.11/site-packages (from pexpect>4.3->ipython>=6.1.0->ipywidgets) (0.7.0)\n",
      "Requirement already satisfied: wcwidth in ./venv/lib/python3.11/site-packages (from prompt_toolkit<3.1.0,>=3.0.41->ipython>=6.1.0->ipywidgets) (0.2.13)\n",
      "Requirement already satisfied: executing>=1.2.0 in ./venv/lib/python3.11/site-packages (from stack_data->ipython>=6.1.0->ipywidgets) (2.2.0)\n",
      "Requirement already satisfied: asttokens>=2.1.0 in ./venv/lib/python3.11/site-packages (from stack_data->ipython>=6.1.0->ipywidgets) (3.0.0)\n",
      "Requirement already satisfied: pure-eval in ./venv/lib/python3.11/site-packages (from stack_data->ipython>=6.1.0->ipywidgets) (0.2.3)\n",
      "Using cached openai-1.66.3-py3-none-any.whl (567 kB)\n",
      "Using cached pandas-2.2.3-cp311-cp311-manylinux_2_17_x86_64.manylinux2014_x86_64.whl (13.1 MB)\n",
      "Using cached matplotlib-3.10.1-cp311-cp311-manylinux_2_17_x86_64.manylinux2014_x86_64.whl (8.6 MB)\n",
      "Using cached tqdm-4.67.1-py3-none-any.whl (78 kB)\n",
      "Using cached ipywidgets-8.1.5-py3-none-any.whl (139 kB)\n",
      "Using cached contourpy-1.3.1-cp311-cp311-manylinux_2_17_x86_64.manylinux2014_x86_64.whl (326 kB)\n",
      "Using cached cycler-0.12.1-py3-none-any.whl (8.3 kB)\n",
      "Using cached distro-1.9.0-py3-none-any.whl (20 kB)\n",
      "Using cached fonttools-4.56.0-cp311-cp311-manylinux_2_17_x86_64.manylinux2014_x86_64.whl (4.9 MB)\n",
      "Using cached jiter-0.9.0-cp311-cp311-manylinux_2_17_x86_64.manylinux2014_x86_64.whl (351 kB)\n",
      "Using cached jupyterlab_widgets-3.0.13-py3-none-any.whl (214 kB)\n",
      "Using cached kiwisolver-1.4.8-cp311-cp311-manylinux_2_17_x86_64.manylinux2014_x86_64.whl (1.4 MB)\n",
      "Using cached numpy-2.2.4-cp311-cp311-manylinux_2_17_x86_64.manylinux2014_x86_64.whl (16.4 MB)\n",
      "Using cached pillow-11.1.0-cp311-cp311-manylinux_2_28_x86_64.whl (4.5 MB)\n",
      "Using cached pydantic-2.10.6-py3-none-any.whl (431 kB)\n",
      "Using cached pydantic_core-2.27.2-cp311-cp311-manylinux_2_17_x86_64.manylinux2014_x86_64.whl (2.0 MB)\n",
      "Using cached pyparsing-3.2.1-py3-none-any.whl (107 kB)\n",
      "Using cached pytz-2025.1-py2.py3-none-any.whl (507 kB)\n",
      "Using cached tzdata-2025.1-py2.py3-none-any.whl (346 kB)\n",
      "Using cached widgetsnbextension-4.0.13-py3-none-any.whl (2.3 MB)\n",
      "Using cached annotated_types-0.7.0-py3-none-any.whl (13 kB)\n",
      "Installing collected packages: pytz, widgetsnbextension, tzdata, tqdm, pyparsing, pydantic-core, pillow, numpy, kiwisolver, jupyterlab-widgets, jiter, fonttools, distro, cycler, annotated-types, pydantic, pandas, contourpy, openai, matplotlib, ipywidgets\n",
      "Successfully installed annotated-types-0.7.0 contourpy-1.3.1 cycler-0.12.1 distro-1.9.0 fonttools-4.56.0 ipywidgets-8.1.5 jiter-0.9.0 jupyterlab-widgets-3.0.13 kiwisolver-1.4.8 matplotlib-3.10.1 numpy-2.2.4 openai-1.66.3 pandas-2.2.3 pillow-11.1.0 pydantic-2.10.6 pydantic-core-2.27.2 pyparsing-3.2.1 pytz-2025.1 tqdm-4.67.1 tzdata-2025.1 widgetsnbextension-4.0.13\n",
      "\n",
      "\u001b[1m[\u001b[0m\u001b[34;49mnotice\u001b[0m\u001b[1;39;49m]\u001b[0m\u001b[39;49m A new release of pip is available: \u001b[0m\u001b[31;49m24.0\u001b[0m\u001b[39;49m -> \u001b[0m\u001b[32;49m25.0.1\u001b[0m\n",
      "\u001b[1m[\u001b[0m\u001b[34;49mnotice\u001b[0m\u001b[1;39;49m]\u001b[0m\u001b[39;49m To update, run: \u001b[0m\u001b[32;49mpip install --upgrade pip\u001b[0m\n"
     ]
    }
   ],
   "source": [
    "!pip install openai pandas matplotlib tqdm ipywidgets"
   ]
  },
  {
   "cell_type": "markdown",
   "id": "5374a8c3",
   "metadata": {},
   "source": [
    "## 2. Setting Up Your API Key\n",
    "\n",
    "Before you can use the ChatGPT API, you need to set your OpenAI API key. You can either set it directly in your code or store it as an environment variable. \n",
    "\n",
    "For security reasons, it is recommended to use environment variables or a configuration file that is not shared publicly."
   ]
  },
  {
   "cell_type": "code",
   "execution_count": 2,
   "id": "34c8f61e",
   "metadata": {},
   "outputs": [],
   "source": [
    "from openai import OpenAI\n",
    "from IPython.display import Markdown, display\n",
    "\n",
    "# Set your OpenAI API Key\n",
    "client = OpenAI(\n",
    "    api_key=\"\",\n",
    ")"
   ]
  },
  {
   "cell_type": "markdown",
   "id": "f923c8bd",
   "metadata": {},
   "source": [
    "## 3. Basic Example: Getting a Response from the ChatGPT API\n",
    "\n",
    "In this example, we will call the ChatGPT API using the `gpt-4o-mini` model. We will send a simple conversation prompt and print the result."
   ]
  },
  {
   "cell_type": "code",
   "execution_count": 3,
   "id": "501a7a15-ff85-4e37-9ab0-f08fcaae03b3",
   "metadata": {},
   "outputs": [
    {
     "data": {
      "text/markdown": [
       "To effectively cover 80% of UK households in your study, you would want to include the major supermarkets that dominate the market. Here are the key players you should consider:\n",
       "\n",
       "1. **Tesco**: The largest supermarket chain in the UK with a significant market share.\n",
       "2. **Sainsbury's**: The second-largest supermarket chain, well-established across the UK.\n",
       "3. **Asda**: A major player in the market, known for its affordability.\n",
       "4. **Morrisons**: Another large supermarket chain with a strong presence.\n",
       "5. **Aldi**: A discount supermarket that has rapidly gained market share in recent years.\n",
       "6. **Lidl**: Similar to Aldi, it is a discount chain that holds a significant share of the market.\n",
       "7. **Co-op**: The Co-operative Group operates numerous smaller stores and has a loyal customer base.\n",
       "\n",
       "Including these supermarkets should provide a robust representation of UK households, as they account for a large percentage of grocery sales and customer reach. Additionally, you could consider including online grocery services like Ocado, as they play a significant role in the grocery shopping landscape in the UK, especially for certain demographics. \n",
       "\n",
       "For the most accurate and up-to-date figures regarding market share, you may want to refer to recent market research reports or industry analyses."
      ],
      "text/plain": [
       "<IPython.core.display.Markdown object>"
      ]
     },
     "metadata": {},
     "output_type": "display_data"
    }
   ],
   "source": [
    "response = client.chat.completions.create(\n",
    "    model=\"gpt-4o-mini\",\n",
    "    messages=[\n",
    "        {\"role\": \"system\", \"content\": \"You are a helpful assistant.\"},\n",
    "        {\"role\": \"user\", \"content\": \"Which supermarkets do I need to include in my study if I want to cover 80% of UK households?\"}\n",
    "    ]\n",
    ")\n",
    "\n",
    "display(Markdown(response.choices[0].message.content))"
   ]
  },
  {
   "cell_type": "markdown",
   "id": "0708096e-5343-413a-9173-64092120992e",
   "metadata": {},
   "source": [
    "## 4. Data Example: Create a chart of review ratings, without AI\n",
    "\n",
    "Our next example uses Pandas to read a CSV file of 200 reviews of Disneyland Hong Kong and create a chart displaying the count of the different rating values.\n",
    "\n",
    "### Load the file as a data frame\n",
    "\n",
    "And display the first 5 rows"
   ]
  },
  {
   "cell_type": "code",
   "execution_count": 4,
   "id": "792e0db9",
   "metadata": {},
   "outputs": [
    {
     "data": {
      "text/html": [
       "<div>\n",
       "<style scoped>\n",
       "    .dataframe tbody tr th:only-of-type {\n",
       "        vertical-align: middle;\n",
       "    }\n",
       "\n",
       "    .dataframe tbody tr th {\n",
       "        vertical-align: top;\n",
       "    }\n",
       "\n",
       "    .dataframe thead th {\n",
       "        text-align: right;\n",
       "    }\n",
       "</style>\n",
       "<table border=\"1\" class=\"dataframe\">\n",
       "  <thead>\n",
       "    <tr style=\"text-align: right;\">\n",
       "      <th></th>\n",
       "      <th>Review_ID</th>\n",
       "      <th>Rating</th>\n",
       "      <th>Year_Month</th>\n",
       "      <th>Reviewer_Location</th>\n",
       "      <th>Review_Text</th>\n",
       "      <th>Branch</th>\n",
       "    </tr>\n",
       "  </thead>\n",
       "  <tbody>\n",
       "    <tr>\n",
       "      <th>0</th>\n",
       "      <td>670772142</td>\n",
       "      <td>4</td>\n",
       "      <td>2019-4</td>\n",
       "      <td>Australia</td>\n",
       "      <td>If you've ever been to Disneyland anywhere you...</td>\n",
       "      <td>Disneyland_HongKong</td>\n",
       "    </tr>\n",
       "    <tr>\n",
       "      <th>1</th>\n",
       "      <td>670682799</td>\n",
       "      <td>4</td>\n",
       "      <td>2019-5</td>\n",
       "      <td>Philippines</td>\n",
       "      <td>Its been a while since d last time we visit HK...</td>\n",
       "      <td>Disneyland_HongKong</td>\n",
       "    </tr>\n",
       "    <tr>\n",
       "      <th>2</th>\n",
       "      <td>670623270</td>\n",
       "      <td>4</td>\n",
       "      <td>2019-4</td>\n",
       "      <td>United Arab Emirates</td>\n",
       "      <td>Thanks God it wasn   t too hot or too humid wh...</td>\n",
       "      <td>Disneyland_HongKong</td>\n",
       "    </tr>\n",
       "    <tr>\n",
       "      <th>3</th>\n",
       "      <td>670607911</td>\n",
       "      <td>4</td>\n",
       "      <td>2019-4</td>\n",
       "      <td>Australia</td>\n",
       "      <td>HK Disneyland is a great compact park. Unfortu...</td>\n",
       "      <td>Disneyland_HongKong</td>\n",
       "    </tr>\n",
       "    <tr>\n",
       "      <th>4</th>\n",
       "      <td>670607296</td>\n",
       "      <td>4</td>\n",
       "      <td>2019-4</td>\n",
       "      <td>United Kingdom</td>\n",
       "      <td>the location is not in the city, took around 1...</td>\n",
       "      <td>Disneyland_HongKong</td>\n",
       "    </tr>\n",
       "  </tbody>\n",
       "</table>\n",
       "</div>"
      ],
      "text/plain": [
       "   Review_ID  Rating Year_Month     Reviewer_Location  \\\n",
       "0  670772142       4     2019-4             Australia   \n",
       "1  670682799       4     2019-5           Philippines   \n",
       "2  670623270       4     2019-4  United Arab Emirates   \n",
       "3  670607911       4     2019-4             Australia   \n",
       "4  670607296       4     2019-4        United Kingdom   \n",
       "\n",
       "                                         Review_Text               Branch  \n",
       "0  If you've ever been to Disneyland anywhere you...  Disneyland_HongKong  \n",
       "1  Its been a while since d last time we visit HK...  Disneyland_HongKong  \n",
       "2  Thanks God it wasn   t too hot or too humid wh...  Disneyland_HongKong  \n",
       "3  HK Disneyland is a great compact park. Unfortu...  Disneyland_HongKong  \n",
       "4  the location is not in the city, took around 1...  Disneyland_HongKong  "
      ]
     },
     "execution_count": 4,
     "metadata": {},
     "output_type": "execute_result"
    }
   ],
   "source": [
    "%matplotlib inline\n",
    "\n",
    "import pandas as pd\n",
    "import matplotlib.pyplot as plt\n",
    "\n",
    "# Read the CSV file\n",
    "df = pd.read_csv('disney-200-reviews.csv')\n",
    "\n",
    "df.head()"
   ]
  },
  {
   "cell_type": "markdown",
   "id": "fb108d67-8bc4-411e-b945-c54214ed8148",
   "metadata": {},
   "source": [
    "### Plot the chart\n",
    "\n",
    "Using a Pandas dataframe and Matlab plot to create a column chart of how many different rating response we got."
   ]
  },
  {
   "cell_type": "code",
   "execution_count": 5,
   "id": "fed20ec7-e3d6-4f92-a12c-5be6f2cb33eb",
   "metadata": {},
   "outputs": [
    {
     "data": {
      "image/png": "[encoded data removed]",
      "text/plain": [
       "<Figure size 800x600 with 1 Axes>"
      ]
     },
     "metadata": {},
     "output_type": "display_data"
    }
   ],
   "source": [
    "rating_counts = df['Rating'].value_counts().sort_index()\n",
    "\n",
    "plt.figure(figsize=(8, 6))\n",
    "rating_counts.plot(kind='bar')\n",
    "plt.xlabel('Rating')\n",
    "plt.ylabel('Count')\n",
    "plt.title('Distribution of Ratings')\n",
    "plt.show()"
   ]
  },
  {
   "cell_type": "markdown",
   "id": "0083974d-ab67-4b2b-9572-a80461bfe068",
   "metadata": {},
   "source": [
    "## 5. Involve ChatGPT\n",
    "\n",
    "Next, we will use ChatGPT to determine the sentiment of the review text and plot the sentiment."
   ]
  },
  {
   "cell_type": "code",
   "execution_count": 6,
   "id": "9cc80a66-3454-42b7-868d-5217d255d953",
   "metadata": {},
   "outputs": [
    {
     "data": {
      "application/vnd.jupyter.widget-view+json": {
       "model_id": "05a9605c841e4651b5ded312bbc1551c",
       "version_major": 2,
       "version_minor": 0
      },
      "text/plain": [
       "  0%|          | 0/200 [00:00<?, ?it/s]"
      ]
     },
     "metadata": {},
     "output_type": "display_data"
    }
   ],
   "source": [
    "import time\n",
    "from tqdm.notebook import tqdm\n",
    "\n",
    "tqdm.pandas()\n",
    "\n",
    "# Function to get sentiment using the ChatGPT API\n",
    "def get_sentiment(review_text):\n",
    "    try:\n",
    "        response = client.chat.completions.create(\n",
    "            model=\"gpt-4o-mini\",\n",
    "            messages=[\n",
    "                {\"role\": \"system\", \n",
    "                 \"content\": \"You are a sentiment analysis assistant. Classify the sentiment of the given review as 'Positive', 'Negative', 'Mixed', or 'Neutral'. Respond with one of these four words only.\"},\n",
    "                {\"role\": \"user\", \"content\": review_text}\n",
    "            ],\n",
    "            temperature=0  # use deterministic responses\n",
    "        )\n",
    "        sentiment = response.choices[0].message.content.strip()\n",
    "        # Normalize the sentiment to one of the expected values\n",
    "        if sentiment.lower() not in ['positive', 'negative', 'mixed', 'neutral']:\n",
    "            sentiment = \"Unknown\"  # default to neutral if the response is unclear\n",
    "        else:\n",
    "            sentiment = sentiment.capitalize()\n",
    "        return sentiment\n",
    "    except Exception as e:\n",
    "        print(f\"Error processing review: {e}\")\n",
    "        return \"Unknown\"\n",
    "\n",
    "# Apply the sentiment analysis function with a progress bar\n",
    "df['Sentiment'] = df['Review_Text'].progress_apply(get_sentiment)\n",
    "\n",
    "# Group by sentiment and count the number of reviews in each category\n",
    "sentiment_counts = df['Sentiment'].value_counts().sort_index()"
   ]
  },
  {
   "cell_type": "code",
   "execution_count": 7,
   "id": "ec2893be-b4a7-4364-a60e-ef82416dce65",
   "metadata": {},
   "outputs": [
    {
     "data": {
      "image/png": "[encoded data removed]",
      "text/plain": [
       "<Figure size 800x600 with 1 Axes>"
      ]
     },
     "metadata": {},
     "output_type": "display_data"
    }
   ],
   "source": [
    "# Define the desired order\n",
    "desired_order = ['Positive', 'Mixed', 'Negative', 'Neutral']\n",
    "\n",
    "# Reindex the sentiment_counts Series to this order, filling missing values with 0\n",
    "sentiment_counts = sentiment_counts.reindex(desired_order, fill_value=0)\n",
    "\n",
    "color_map = {'Negative': 'red', 'Neutral': 'gray', 'Mixed': 'orange', 'Positive': 'green'}\n",
    "colors = [color_map.get(sent, 'blue') for sent in sentiment_counts.index]\n",
    "\n",
    "# Plot a column chart with different colors for each sentiment\n",
    "plt.figure(figsize=(8, 6))\n",
    "sentiment_counts.plot(kind='bar', color=colors)\n",
    "plt.xlabel('Sentiment')\n",
    "plt.ylabel('Count')\n",
    "plt.title('Sentiment Distribution of Reviews')\n",
    "plt.xticks(rotation=0)\n",
    "plt.show()"
   ]
  },
  {
   "cell_type": "markdown",
   "id": "486c3081-dc6a-4427-bff8-69b5ebdd6a59",
   "metadata": {},
   "source": [
    "## 6. Summarization\n",
    "\n",
    "We can use ChatGPT to read large chunks of writing and create a short summary for us."
   ]
  },
  {
   "cell_type": "code",
   "execution_count": 8,
   "id": "91a146dd-d11b-4167-a5c3-48730fc8b6a6",
   "metadata": {},
   "outputs": [
    {
     "name": "stdout",
     "output_type": "stream",
     "text": [
      "Overall, visitors to Hong Kong Disneyland consistently praise its charming, family-friendly atmosphere and the magic that transports guests back to childhood. Many reviewers enjoyed the park’s unique attractions—such as Mystic Manor, the Marvel-themed Iron Man and Ant Man rides, and the charming parades and live shows (especially Lion King and Mickey’s PhilharMagic). The convenience of the park’s compact layout, easy navigation, and excellent accessibility via the MTR are also frequently mentioned as key positive aspects. For families with small children, the park offers plenty of engaging rides and activities that can be comfortably experienced in a day or two.\n",
      "\n",
      "On the other hand, several common criticisms emerged. Many visitors noted that Hong Kong Disneyland is smaller than its counterparts in the United States, Europe, and Tokyo, leading to fewer rides overall and a somewhat limited thrill factor for older guests. Some reviews expressed disappointment over undergoing renovations—such as the closed castle and cancelled fireworks—which detracted from the quintessential Disney experience. Additionally, the higher prices for food, beverages, and merchandise, coupled with occasional reports of underwhelming customer service or long queues during peak times, were mentioned as negatives.\n",
      "\n",
      "Despite these drawbacks, most reviewers agreed that the park still delivers a magical, well-maintained, and enjoyable experience—especially for families and first-time Disney visitors. Its distinctive attractions, engaging shows, and overall Disney charm make it a worthwhile visit, particularly if one takes advantage of quieter weekdays and planned itineraries to maximize the fun.\n"
     ]
    }
   ],
   "source": [
    "# Combine all reviews into a single string separated by double newlines\n",
    "reviews_text = \"\\n\\n\".join(df['Review_Text'].dropna().tolist())\n",
    "\n",
    "# Create a prompt asking ChatGPT to summarize the reviews\n",
    "prompt = (\n",
    "    \"Please read the following collection of reviews and provide a clear, concise summary \"\n",
    "    \"in a few paragraphs. Highlight the main themes and overall sentiment.\\n\\n\"\n",
    "    f\"{reviews_text}\"\n",
    ")\n",
    "\n",
    "# Call the ChatGPT API to get the summary\n",
    "response = client.chat.completions.create(\n",
    "    model=\"o3-mini\",\n",
    "    messages=[\n",
    "        {\"role\": \"system\", \"content\": \"You are a helpful assistant that summarizes reviews.\"},\n",
    "        {\"role\": \"user\", \"content\": prompt}\n",
    "    ]\n",
    ")\n",
    "\n",
    "# Extract and print the summary\n",
    "summary = response.choices[0].message.content.strip()\n",
    "print(summary)"
   ]
  },
  {
   "cell_type": "markdown",
   "id": "f818b1c2-d4db-4926-969f-5fb8e5bbe3c6",
   "metadata": {},
   "source": [
    "## 7. Data Cleaning\n",
    "\n",
    "We are going to read dirty.csv, ensure all the valued are English, flag for potential PII and check whether the answer seems valid.\n",
    "\n",
    "### Translating"
   ]
  },
  {
   "cell_type": "code",
   "execution_count": 14,
   "id": "09653116-7db0-4490-aa30-1a2e869149c4",
   "metadata": {},
   "outputs": [
    {
     "data": {
      "application/vnd.jupyter.widget-view+json": {
       "model_id": "58d4f63ce43a4f4083df411273c53529",
       "version_major": 2,
       "version_minor": 0
      },
      "text/plain": [
       "  0%|          | 0/8 [00:00<?, ?it/s]"
      ]
     },
     "metadata": {},
     "output_type": "display_data"
    },
    {
     "name": "stdout",
     "output_type": "stream",
     "text": [
      "clean.csv has been updated\n"
     ]
    }
   ],
   "source": [
    "# Load the dirty data CSV into a DataFrame (assumes file is in the same directory)\n",
    "df_dirty = pd.read_csv('dirty.csv')\n",
    "\n",
    "# Check if the CSV contains the 'Text' column\n",
    "if 'How was your visit?' not in df_dirty.columns:\n",
    "    raise ValueError(\"The CSV file must contain a 'How was your visit?' column.\")\n",
    "\n",
    "# Define a function to translate text to English\n",
    "def translate_text(text):\n",
    "    if pd.isna(text) or not text.strip():\n",
    "        return text\n",
    "    try:\n",
    "        # Translate text to English\n",
    "        response = client.chat.completions.create(\n",
    "            model=\"gpt-4o-mini\",\n",
    "            messages=[\n",
    "                {\"role\": \"system\", \"content\": \"You are a helpful translation assistant. Response with only the translated message in English.\"},\n",
    "                {\"role\": \"user\", \"content\": text}\n",
    "            ],\n",
    "            temperature=0.1,\n",
    "        )\n",
    "        translation = response.choices[0].message.content.strip()\n",
    "        return translation\n",
    "    except Exception as e:\n",
    "        print(f\"Error translating text: {text}\\nError: {e}\")\n",
    "        return text\n",
    "\n",
    "# Apply the cleaning function to the 'How was your visit?' column.\n",
    "df_dirty['Translated to English'] = df_dirty['How was your visit?'].progress_apply(translate_text)\n",
    "\n",
    "# Save the cleaned DataFrame to a new CSV file\n",
    "df_dirty.to_csv('clean.csv', index=False)\n",
    "\n",
    "print(\"clean.csv has been updated\")"
   ]
  },
  {
   "cell_type": "markdown",
   "id": "e9d83f8f-7a6f-4eb2-bc94-c04cbf3d25d4",
   "metadata": {},
   "source": [
    "### PII Risk\n",
    "\n",
    "Populate the PII Risk cell with 'true' or 'false' depending on whether the AI thinks there could be PII in the text cell"
   ]
  },
  {
   "cell_type": "code",
   "execution_count": 13,
   "id": "d63216de-0449-4cf6-8597-b991cf5b01ea",
   "metadata": {},
   "outputs": [
    {
     "data": {
      "application/vnd.jupyter.widget-view+json": {
       "model_id": "f9b20d8bda02429e91b99f8e4f661bf4",
       "version_major": 2,
       "version_minor": 0
      },
      "text/plain": [
       "  0%|          | 0/8 [00:00<?, ?it/s]"
      ]
     },
     "metadata": {},
     "output_type": "display_data"
    },
    {
     "name": "stdout",
     "output_type": "stream",
     "text": [
      "clean.csv has been updated\n"
     ]
    }
   ],
   "source": [
    "# Define a function to translate text to English\n",
    "def detect_pii_risk(text):\n",
    "    if pd.isna(text) or not text.strip():\n",
    "        return text\n",
    "    try:\n",
    "        # Translate text to English\n",
    "        response = client.chat.completions.create(\n",
    "            model=\"gpt-4o-mini\",\n",
    "            messages=[\n",
    "                {\"role\": \"system\", \"content\": \"Does the following answer contain PII? Just respond \\\"Yes\\\" or \\\"No\\\".\"},\n",
    "                {\"role\": \"user\", \"content\": text}\n",
    "            ],\n",
    "            temperature=0.1,\n",
    "        )\n",
    "        pii_risk = response.choices[0].message.content.strip()\n",
    "        return pii_risk != \"No\"\n",
    "    except Exception as e:\n",
    "        print(f\"Error translating text: {text}\\nError: {e}\")\n",
    "        return text\n",
    "\n",
    "# Apply the cleaning function to the 'How was your visit?' column.\n",
    "df_dirty['PII Risk'] = df_dirty['Translated to English'].progress_apply(detect_pii_risk)\n",
    "\n",
    "# Save the cleaned DataFrame to a new CSV file\n",
    "df_dirty.to_csv('clean.csv', index=False)\n",
    "\n",
    "print(\"clean.csv has been updated\")"
   ]
  },
  {
   "cell_type": "code",
   "execution_count": null,
   "id": "cee3af05-de6e-45c0-affd-cc8f1fb7f168",
   "metadata": {},
   "outputs": [],
   "source": []
  }
 ],
 "metadata": {
  "kernelspec": {
   "display_name": "Python 3 (ipykernel)",
   "language": "python",
   "name": "python3"
  },
  "language_info": {
   "codemirror_mode": {
    "name": "ipython",
    "version": 3
   },
   "file_extension": ".py",
   "mimetype": "text/x-python",
   "name": "python",
   "nbconvert_exporter": "python",
   "pygments_lexer": "ipython3",
   "version": "3.11.11"
  }
 },
 "nbformat": 4,
 "nbformat_minor": 5
}
